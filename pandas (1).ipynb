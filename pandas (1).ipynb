{
  "nbformat": 4,
  "nbformat_minor": 0,
  "metadata": {
    "colab": {
      "name": "pandas.ipynb",
      "provenance": [],
      "collapsed_sections": []
    },
    "kernelspec": {
      "name": "python3",
      "display_name": "Python 3"
    }
  },
  "cells": [
    {
      "cell_type": "markdown",
      "metadata": {
        "id": "3rF2iuUNaa7n"
      },
      "source": [
        "# Importing **Libraries**"
      ]
    },
    {
      "cell_type": "code",
      "metadata": {
        "id": "sFy5pzS2BX3C"
      },
      "source": [
        "import pandas as pd"
      ],
      "execution_count": 1,
      "outputs": []
    },
    {
      "cell_type": "markdown",
      "metadata": {
        "id": "w5-rgQquakRH"
      },
      "source": [
        "# Reading **File**"
      ]
    },
    {
      "cell_type": "code",
      "metadata": {
        "id": "J7OroPe31ze9",
        "outputId": "2780e848-a90c-42ef-8801-503ba6906897",
        "colab": {
          "base_uri": "https://localhost:8080/",
          "height": 137
        }
      },
      "source": [
        "people={'First':['Shruti','Rutuja','Dhaval'],\n",
        "        'Last':['Jawale','Shinde','Joshi'],\n",
        "        'Email':['shrutijawale111@gmail.com','rutuja123@gmail.com','dj@gmail.com']\n",
        "       }\n",
        "df=pd.DataFrame(people)\n",
        "df"
      ],
      "execution_count": 2,
      "outputs": [
        {
          "output_type": "execute_result",
          "data": {
            "text/html": [
              "<div>\n",
              "<style scoped>\n",
              "    .dataframe tbody tr th:only-of-type {\n",
              "        vertical-align: middle;\n",
              "    }\n",
              "\n",
              "    .dataframe tbody tr th {\n",
              "        vertical-align: top;\n",
              "    }\n",
              "\n",
              "    .dataframe thead th {\n",
              "        text-align: right;\n",
              "    }\n",
              "</style>\n",
              "<table border=\"1\" class=\"dataframe\">\n",
              "  <thead>\n",
              "    <tr style=\"text-align: right;\">\n",
              "      <th></th>\n",
              "      <th>First</th>\n",
              "      <th>Last</th>\n",
              "      <th>Email</th>\n",
              "    </tr>\n",
              "  </thead>\n",
              "  <tbody>\n",
              "    <tr>\n",
              "      <th>0</th>\n",
              "      <td>Shruti</td>\n",
              "      <td>Jawale</td>\n",
              "      <td>shrutijawale111@gmail.com</td>\n",
              "    </tr>\n",
              "    <tr>\n",
              "      <th>1</th>\n",
              "      <td>Rutuja</td>\n",
              "      <td>Shinde</td>\n",
              "      <td>rutuja123@gmail.com</td>\n",
              "    </tr>\n",
              "    <tr>\n",
              "      <th>2</th>\n",
              "      <td>Dhaval</td>\n",
              "      <td>Joshi</td>\n",
              "      <td>dj@gmail.com</td>\n",
              "    </tr>\n",
              "  </tbody>\n",
              "</table>\n",
              "</div>"
            ],
            "text/plain": [
              "    First    Last                      Email\n",
              "0  Shruti  Jawale  shrutijawale111@gmail.com\n",
              "1  Rutuja  Shinde        rutuja123@gmail.com\n",
              "2  Dhaval   Joshi               dj@gmail.com"
            ]
          },
          "metadata": {
            "tags": []
          },
          "execution_count": 2
        }
      ]
    },
    {
      "cell_type": "markdown",
      "metadata": {
        "id": "_vexRhnnHYvs"
      },
      "source": [
        ""
      ]
    },
    {
      "cell_type": "markdown",
      "metadata": {
        "id": "NcsX0AgtaweP"
      },
      "source": [
        "# To access **Columns**"
      ]
    },
    {
      "cell_type": "code",
      "metadata": {
        "id": "dgXUBg8E5noF",
        "outputId": "171a1eaf-74ea-4864-9983-0295c4af2dae",
        "colab": {
          "base_uri": "https://localhost:8080/",
          "height": 87
        }
      },
      "source": [
        "df['Email']"
      ],
      "execution_count": 3,
      "outputs": [
        {
          "output_type": "execute_result",
          "data": {
            "text/plain": [
              "0    shrutijawale111@gmail.com\n",
              "1          rutuja123@gmail.com\n",
              "2                 dj@gmail.com\n",
              "Name: Email, dtype: object"
            ]
          },
          "metadata": {
            "tags": []
          },
          "execution_count": 3
        }
      ]
    },
    {
      "cell_type": "markdown",
      "metadata": {
        "id": "qw2Plh-oa2x7"
      },
      "source": [
        "# Access multiple **Columns**"
      ]
    },
    {
      "cell_type": "code",
      "metadata": {
        "id": "KB2aGK5Oa-ky",
        "outputId": "749bf139-ce20-4a47-e8d8-4f23a0d390b0",
        "colab": {
          "base_uri": "https://localhost:8080/",
          "height": 137
        }
      },
      "source": [
        "df[['Last','Email']]"
      ],
      "execution_count": 4,
      "outputs": [
        {
          "output_type": "execute_result",
          "data": {
            "text/html": [
              "<div>\n",
              "<style scoped>\n",
              "    .dataframe tbody tr th:only-of-type {\n",
              "        vertical-align: middle;\n",
              "    }\n",
              "\n",
              "    .dataframe tbody tr th {\n",
              "        vertical-align: top;\n",
              "    }\n",
              "\n",
              "    .dataframe thead th {\n",
              "        text-align: right;\n",
              "    }\n",
              "</style>\n",
              "<table border=\"1\" class=\"dataframe\">\n",
              "  <thead>\n",
              "    <tr style=\"text-align: right;\">\n",
              "      <th></th>\n",
              "      <th>Last</th>\n",
              "      <th>Email</th>\n",
              "    </tr>\n",
              "  </thead>\n",
              "  <tbody>\n",
              "    <tr>\n",
              "      <th>0</th>\n",
              "      <td>Jawale</td>\n",
              "      <td>shrutijawale111@gmail.com</td>\n",
              "    </tr>\n",
              "    <tr>\n",
              "      <th>1</th>\n",
              "      <td>Shinde</td>\n",
              "      <td>rutuja123@gmail.com</td>\n",
              "    </tr>\n",
              "    <tr>\n",
              "      <th>2</th>\n",
              "      <td>Joshi</td>\n",
              "      <td>dj@gmail.com</td>\n",
              "    </tr>\n",
              "  </tbody>\n",
              "</table>\n",
              "</div>"
            ],
            "text/plain": [
              "     Last                      Email\n",
              "0  Jawale  shrutijawale111@gmail.com\n",
              "1  Shinde        rutuja123@gmail.com\n",
              "2   Joshi               dj@gmail.com"
            ]
          },
          "metadata": {
            "tags": []
          },
          "execution_count": 4
        }
      ]
    },
    {
      "cell_type": "markdown",
      "metadata": {
        "id": "rXKHVu_wbGVR"
      },
      "source": [
        "# To display **rows**"
      ]
    },
    {
      "cell_type": "code",
      "metadata": {
        "id": "ZRjcrIDLbMHc",
        "outputId": "1384d778-2ad6-428c-df62-8af716bd3cdf",
        "colab": {
          "base_uri": "https://localhost:8080/",
          "height": 87
        }
      },
      "source": [
        "df.loc[0]"
      ],
      "execution_count": 5,
      "outputs": [
        {
          "output_type": "execute_result",
          "data": {
            "text/plain": [
              "First                       Shruti\n",
              "Last                        Jawale\n",
              "Email    shrutijawale111@gmail.com\n",
              "Name: 0, dtype: object"
            ]
          },
          "metadata": {
            "tags": []
          },
          "execution_count": 5
        }
      ]
    },
    {
      "cell_type": "markdown",
      "metadata": {
        "id": "Ve7bWztFbU_0"
      },
      "source": [
        "# Using Filter to filt **data**"
      ]
    },
    {
      "cell_type": "code",
      "metadata": {
        "id": "JMl9qI_WbY8l",
        "outputId": "592ceae8-1af8-4a96-89e2-9dd6e9bb0164",
        "colab": {
          "base_uri": "https://localhost:8080/",
          "height": 77
        }
      },
      "source": [
        "filt=(df['Last']=='Jawale')\n",
        "df[filt]"
      ],
      "execution_count": 6,
      "outputs": [
        {
          "output_type": "execute_result",
          "data": {
            "text/html": [
              "<div>\n",
              "<style scoped>\n",
              "    .dataframe tbody tr th:only-of-type {\n",
              "        vertical-align: middle;\n",
              "    }\n",
              "\n",
              "    .dataframe tbody tr th {\n",
              "        vertical-align: top;\n",
              "    }\n",
              "\n",
              "    .dataframe thead th {\n",
              "        text-align: right;\n",
              "    }\n",
              "</style>\n",
              "<table border=\"1\" class=\"dataframe\">\n",
              "  <thead>\n",
              "    <tr style=\"text-align: right;\">\n",
              "      <th></th>\n",
              "      <th>First</th>\n",
              "      <th>Last</th>\n",
              "      <th>Email</th>\n",
              "    </tr>\n",
              "  </thead>\n",
              "  <tbody>\n",
              "    <tr>\n",
              "      <th>0</th>\n",
              "      <td>Shruti</td>\n",
              "      <td>Jawale</td>\n",
              "      <td>shrutijawale111@gmail.com</td>\n",
              "    </tr>\n",
              "  </tbody>\n",
              "</table>\n",
              "</div>"
            ],
            "text/plain": [
              "    First    Last                      Email\n",
              "0  Shruti  Jawale  shrutijawale111@gmail.com"
            ]
          },
          "metadata": {
            "tags": []
          },
          "execution_count": 6
        }
      ]
    },
    {
      "cell_type": "markdown",
      "metadata": {
        "id": "btBVHTwjbeh5"
      },
      "source": [
        "# Updating ***Rows*** and ***Columns***"
      ]
    },
    {
      "cell_type": "code",
      "metadata": {
        "id": "n-66ILtEbuvG",
        "outputId": "2323d1b7-5717-4464-f6f2-7645742f0c3f",
        "colab": {
          "base_uri": "https://localhost:8080/",
          "height": 34
        }
      },
      "source": [
        "df.columns"
      ],
      "execution_count": 7,
      "outputs": [
        {
          "output_type": "execute_result",
          "data": {
            "text/plain": [
              "Index(['First', 'Last', 'Email'], dtype='object')"
            ]
          },
          "metadata": {
            "tags": []
          },
          "execution_count": 7
        }
      ]
    },
    {
      "cell_type": "code",
      "metadata": {
        "id": "R3y-uFpQb1-l",
        "outputId": "3e0d1a55-30f6-42af-b535-747bd896f966",
        "colab": {
          "base_uri": "https://localhost:8080/",
          "height": 34
        }
      },
      "source": [
        "df.columns=['First-name','Last-name','Email']\n",
        "df.columns"
      ],
      "execution_count": 8,
      "outputs": [
        {
          "output_type": "execute_result",
          "data": {
            "text/plain": [
              "Index(['First-name', 'Last-name', 'Email'], dtype='object')"
            ]
          },
          "metadata": {
            "tags": []
          },
          "execution_count": 8
        }
      ]
    },
    {
      "cell_type": "code",
      "metadata": {
        "id": "I_ZJdVYgb6wn",
        "outputId": "46118d74-38e0-4bad-8f01-5e9271371198",
        "colab": {
          "base_uri": "https://localhost:8080/",
          "height": 137
        }
      },
      "source": [
        "df.columns=[x.upper() for x in df.columns]\n",
        "df"
      ],
      "execution_count": 9,
      "outputs": [
        {
          "output_type": "execute_result",
          "data": {
            "text/html": [
              "<div>\n",
              "<style scoped>\n",
              "    .dataframe tbody tr th:only-of-type {\n",
              "        vertical-align: middle;\n",
              "    }\n",
              "\n",
              "    .dataframe tbody tr th {\n",
              "        vertical-align: top;\n",
              "    }\n",
              "\n",
              "    .dataframe thead th {\n",
              "        text-align: right;\n",
              "    }\n",
              "</style>\n",
              "<table border=\"1\" class=\"dataframe\">\n",
              "  <thead>\n",
              "    <tr style=\"text-align: right;\">\n",
              "      <th></th>\n",
              "      <th>FIRST-NAME</th>\n",
              "      <th>LAST-NAME</th>\n",
              "      <th>EMAIL</th>\n",
              "    </tr>\n",
              "  </thead>\n",
              "  <tbody>\n",
              "    <tr>\n",
              "      <th>0</th>\n",
              "      <td>Shruti</td>\n",
              "      <td>Jawale</td>\n",
              "      <td>shrutijawale111@gmail.com</td>\n",
              "    </tr>\n",
              "    <tr>\n",
              "      <th>1</th>\n",
              "      <td>Rutuja</td>\n",
              "      <td>Shinde</td>\n",
              "      <td>rutuja123@gmail.com</td>\n",
              "    </tr>\n",
              "    <tr>\n",
              "      <th>2</th>\n",
              "      <td>Dhaval</td>\n",
              "      <td>Joshi</td>\n",
              "      <td>dj@gmail.com</td>\n",
              "    </tr>\n",
              "  </tbody>\n",
              "</table>\n",
              "</div>"
            ],
            "text/plain": [
              "  FIRST-NAME LAST-NAME                      EMAIL\n",
              "0     Shruti    Jawale  shrutijawale111@gmail.com\n",
              "1     Rutuja    Shinde        rutuja123@gmail.com\n",
              "2     Dhaval     Joshi               dj@gmail.com"
            ]
          },
          "metadata": {
            "tags": []
          },
          "execution_count": 9
        }
      ]
    },
    {
      "cell_type": "markdown",
      "metadata": {
        "id": "8WZc2MdpcCTp"
      },
      "source": [
        "# ***Apply*** Method"
      ]
    },
    {
      "cell_type": "code",
      "metadata": {
        "id": "XXNeKe8HcHwl",
        "outputId": "8a5523e5-bf51-4ce1-c32b-f1fd1cffa542",
        "colab": {
          "base_uri": "https://localhost:8080/",
          "height": 87
        }
      },
      "source": [
        "df['EMAIL'].apply(len) #gives length of that col"
      ],
      "execution_count": 10,
      "outputs": [
        {
          "output_type": "execute_result",
          "data": {
            "text/plain": [
              "0    25\n",
              "1    19\n",
              "2    12\n",
              "Name: EMAIL, dtype: int64"
            ]
          },
          "metadata": {
            "tags": []
          },
          "execution_count": 10
        }
      ]
    },
    {
      "cell_type": "markdown",
      "metadata": {
        "id": "66oGYYXCcQN2"
      },
      "source": [
        "# ***Applymap*** Method"
      ]
    },
    {
      "cell_type": "code",
      "metadata": {
        "id": "96Ahf7hvcXql",
        "outputId": "9c35cd8d-66bc-45b8-d79c-20da79731e3f",
        "colab": {
          "base_uri": "https://localhost:8080/",
          "height": 137
        }
      },
      "source": [
        "df.applymap(len)   #Gives length of all charecters"
      ],
      "execution_count": 11,
      "outputs": [
        {
          "output_type": "execute_result",
          "data": {
            "text/html": [
              "<div>\n",
              "<style scoped>\n",
              "    .dataframe tbody tr th:only-of-type {\n",
              "        vertical-align: middle;\n",
              "    }\n",
              "\n",
              "    .dataframe tbody tr th {\n",
              "        vertical-align: top;\n",
              "    }\n",
              "\n",
              "    .dataframe thead th {\n",
              "        text-align: right;\n",
              "    }\n",
              "</style>\n",
              "<table border=\"1\" class=\"dataframe\">\n",
              "  <thead>\n",
              "    <tr style=\"text-align: right;\">\n",
              "      <th></th>\n",
              "      <th>FIRST-NAME</th>\n",
              "      <th>LAST-NAME</th>\n",
              "      <th>EMAIL</th>\n",
              "    </tr>\n",
              "  </thead>\n",
              "  <tbody>\n",
              "    <tr>\n",
              "      <th>0</th>\n",
              "      <td>6</td>\n",
              "      <td>6</td>\n",
              "      <td>25</td>\n",
              "    </tr>\n",
              "    <tr>\n",
              "      <th>1</th>\n",
              "      <td>6</td>\n",
              "      <td>6</td>\n",
              "      <td>19</td>\n",
              "    </tr>\n",
              "    <tr>\n",
              "      <th>2</th>\n",
              "      <td>6</td>\n",
              "      <td>5</td>\n",
              "      <td>12</td>\n",
              "    </tr>\n",
              "  </tbody>\n",
              "</table>\n",
              "</div>"
            ],
            "text/plain": [
              "   FIRST-NAME  LAST-NAME  EMAIL\n",
              "0           6          6     25\n",
              "1           6          6     19\n",
              "2           6          5     12"
            ]
          },
          "metadata": {
            "tags": []
          },
          "execution_count": 11
        }
      ]
    },
    {
      "cell_type": "markdown",
      "metadata": {
        "id": "AHykx9JbcdpH"
      },
      "source": [
        "# ***Map*** Method"
      ]
    },
    {
      "cell_type": "code",
      "metadata": {
        "id": "INlntJeQcjgP",
        "outputId": "31b08351-08cf-49e4-d861-d92988ffe992",
        "colab": {
          "base_uri": "https://localhost:8080/",
          "height": 87
        }
      },
      "source": [
        "df['FIRST-NAME'].map({'Shruti':'Shrutz','Rutuja':'Rutu'}) #to cahnge names"
      ],
      "execution_count": 12,
      "outputs": [
        {
          "output_type": "execute_result",
          "data": {
            "text/plain": [
              "0    Shrutz\n",
              "1      Rutu\n",
              "2       NaN\n",
              "Name: FIRST-NAME, dtype: object"
            ]
          },
          "metadata": {
            "tags": []
          },
          "execution_count": 12
        }
      ]
    },
    {
      "cell_type": "markdown",
      "metadata": {
        "id": "KZ7kFy3tctKP"
      },
      "source": [
        "# To Add **Columns**"
      ]
    },
    {
      "cell_type": "code",
      "metadata": {
        "id": "DCaSM-nccvXR",
        "outputId": "9d92af2e-aa81-4da1-c26a-f0e8a2bff3f3",
        "colab": {
          "base_uri": "https://localhost:8080/",
          "height": 137
        }
      },
      "source": [
        "df['Full-Name']=df['FIRST-NAME']+' '+df['LAST-NAME']\n",
        "df"
      ],
      "execution_count": 13,
      "outputs": [
        {
          "output_type": "execute_result",
          "data": {
            "text/html": [
              "<div>\n",
              "<style scoped>\n",
              "    .dataframe tbody tr th:only-of-type {\n",
              "        vertical-align: middle;\n",
              "    }\n",
              "\n",
              "    .dataframe tbody tr th {\n",
              "        vertical-align: top;\n",
              "    }\n",
              "\n",
              "    .dataframe thead th {\n",
              "        text-align: right;\n",
              "    }\n",
              "</style>\n",
              "<table border=\"1\" class=\"dataframe\">\n",
              "  <thead>\n",
              "    <tr style=\"text-align: right;\">\n",
              "      <th></th>\n",
              "      <th>FIRST-NAME</th>\n",
              "      <th>LAST-NAME</th>\n",
              "      <th>EMAIL</th>\n",
              "      <th>Full-Name</th>\n",
              "    </tr>\n",
              "  </thead>\n",
              "  <tbody>\n",
              "    <tr>\n",
              "      <th>0</th>\n",
              "      <td>Shruti</td>\n",
              "      <td>Jawale</td>\n",
              "      <td>shrutijawale111@gmail.com</td>\n",
              "      <td>Shruti Jawale</td>\n",
              "    </tr>\n",
              "    <tr>\n",
              "      <th>1</th>\n",
              "      <td>Rutuja</td>\n",
              "      <td>Shinde</td>\n",
              "      <td>rutuja123@gmail.com</td>\n",
              "      <td>Rutuja Shinde</td>\n",
              "    </tr>\n",
              "    <tr>\n",
              "      <th>2</th>\n",
              "      <td>Dhaval</td>\n",
              "      <td>Joshi</td>\n",
              "      <td>dj@gmail.com</td>\n",
              "      <td>Dhaval Joshi</td>\n",
              "    </tr>\n",
              "  </tbody>\n",
              "</table>\n",
              "</div>"
            ],
            "text/plain": [
              "  FIRST-NAME LAST-NAME                      EMAIL      Full-Name\n",
              "0     Shruti    Jawale  shrutijawale111@gmail.com  Shruti Jawale\n",
              "1     Rutuja    Shinde        rutuja123@gmail.com  Rutuja Shinde\n",
              "2     Dhaval     Joshi               dj@gmail.com   Dhaval Joshi"
            ]
          },
          "metadata": {
            "tags": []
          },
          "execution_count": 13
        }
      ]
    },
    {
      "cell_type": "markdown",
      "metadata": {
        "id": "_TDUs6Qccs1t"
      },
      "source": [
        "# To Delete **Column**"
      ]
    },
    {
      "cell_type": "code",
      "metadata": {
        "id": "QLmo-TlWc6vM",
        "outputId": "0b49895a-8cbf-4e49-dc88-88f857210d3c",
        "colab": {
          "base_uri": "https://localhost:8080/",
          "height": 137
        }
      },
      "source": [
        "df.drop(columns=['FIRST-NAME','LAST-NAME'])"
      ],
      "execution_count": 14,
      "outputs": [
        {
          "output_type": "execute_result",
          "data": {
            "text/html": [
              "<div>\n",
              "<style scoped>\n",
              "    .dataframe tbody tr th:only-of-type {\n",
              "        vertical-align: middle;\n",
              "    }\n",
              "\n",
              "    .dataframe tbody tr th {\n",
              "        vertical-align: top;\n",
              "    }\n",
              "\n",
              "    .dataframe thead th {\n",
              "        text-align: right;\n",
              "    }\n",
              "</style>\n",
              "<table border=\"1\" class=\"dataframe\">\n",
              "  <thead>\n",
              "    <tr style=\"text-align: right;\">\n",
              "      <th></th>\n",
              "      <th>EMAIL</th>\n",
              "      <th>Full-Name</th>\n",
              "    </tr>\n",
              "  </thead>\n",
              "  <tbody>\n",
              "    <tr>\n",
              "      <th>0</th>\n",
              "      <td>shrutijawale111@gmail.com</td>\n",
              "      <td>Shruti Jawale</td>\n",
              "    </tr>\n",
              "    <tr>\n",
              "      <th>1</th>\n",
              "      <td>rutuja123@gmail.com</td>\n",
              "      <td>Rutuja Shinde</td>\n",
              "    </tr>\n",
              "    <tr>\n",
              "      <th>2</th>\n",
              "      <td>dj@gmail.com</td>\n",
              "      <td>Dhaval Joshi</td>\n",
              "    </tr>\n",
              "  </tbody>\n",
              "</table>\n",
              "</div>"
            ],
            "text/plain": [
              "                       EMAIL      Full-Name\n",
              "0  shrutijawale111@gmail.com  Shruti Jawale\n",
              "1        rutuja123@gmail.com  Rutuja Shinde\n",
              "2               dj@gmail.com   Dhaval Joshi"
            ]
          },
          "metadata": {
            "tags": []
          },
          "execution_count": 14
        }
      ]
    },
    {
      "cell_type": "markdown",
      "metadata": {
        "id": "Yk_vEhaCc_SB"
      },
      "source": [
        "# Sorting **Data**"
      ]
    },
    {
      "cell_type": "code",
      "metadata": {
        "id": "OGGKgXr-dEkQ",
        "outputId": "75aabc21-db51-49a9-cb23-1fa9c3ed5d0d",
        "colab": {
          "base_uri": "https://localhost:8080/",
          "height": 137
        }
      },
      "source": [
        "df.sort_values(by='FIRST-NAME')"
      ],
      "execution_count": 15,
      "outputs": [
        {
          "output_type": "execute_result",
          "data": {
            "text/html": [
              "<div>\n",
              "<style scoped>\n",
              "    .dataframe tbody tr th:only-of-type {\n",
              "        vertical-align: middle;\n",
              "    }\n",
              "\n",
              "    .dataframe tbody tr th {\n",
              "        vertical-align: top;\n",
              "    }\n",
              "\n",
              "    .dataframe thead th {\n",
              "        text-align: right;\n",
              "    }\n",
              "</style>\n",
              "<table border=\"1\" class=\"dataframe\">\n",
              "  <thead>\n",
              "    <tr style=\"text-align: right;\">\n",
              "      <th></th>\n",
              "      <th>FIRST-NAME</th>\n",
              "      <th>LAST-NAME</th>\n",
              "      <th>EMAIL</th>\n",
              "      <th>Full-Name</th>\n",
              "    </tr>\n",
              "  </thead>\n",
              "  <tbody>\n",
              "    <tr>\n",
              "      <th>2</th>\n",
              "      <td>Dhaval</td>\n",
              "      <td>Joshi</td>\n",
              "      <td>dj@gmail.com</td>\n",
              "      <td>Dhaval Joshi</td>\n",
              "    </tr>\n",
              "    <tr>\n",
              "      <th>1</th>\n",
              "      <td>Rutuja</td>\n",
              "      <td>Shinde</td>\n",
              "      <td>rutuja123@gmail.com</td>\n",
              "      <td>Rutuja Shinde</td>\n",
              "    </tr>\n",
              "    <tr>\n",
              "      <th>0</th>\n",
              "      <td>Shruti</td>\n",
              "      <td>Jawale</td>\n",
              "      <td>shrutijawale111@gmail.com</td>\n",
              "      <td>Shruti Jawale</td>\n",
              "    </tr>\n",
              "  </tbody>\n",
              "</table>\n",
              "</div>"
            ],
            "text/plain": [
              "  FIRST-NAME LAST-NAME                      EMAIL      Full-Name\n",
              "2     Dhaval     Joshi               dj@gmail.com   Dhaval Joshi\n",
              "1     Rutuja    Shinde        rutuja123@gmail.com  Rutuja Shinde\n",
              "0     Shruti    Jawale  shrutijawale111@gmail.com  Shruti Jawale"
            ]
          },
          "metadata": {
            "tags": []
          },
          "execution_count": 15
        }
      ]
    }
  ]
}