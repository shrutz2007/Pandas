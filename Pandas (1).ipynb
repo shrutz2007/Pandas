{
  "nbformat": 4,
  "nbformat_minor": 0,
  "metadata": {
    "colab": {
      "name": "Pandas.ipynb",
      "provenance": []
    },
    "kernelspec": {
      "name": "python3",
      "display_name": "Python 3"
    },
    "language_info": {
      "name": "python"
    }
  },
  "cells": [
    {
      "cell_type": "code",
      "metadata": {
        "colab": {
          "base_uri": "https://localhost:8080/"
        },
        "id": "jHKhqzAnCqgu",
        "outputId": "87fcde08-ab0b-4965-b27a-f1522363d2d5"
      },
      "source": [
        "import pandas\n",
        "data = pandas.read_csv('2018_Central_Park_Squirrel_Census_-_Squirrel_Data.csv')\n",
        "gray_sq = len(data[data['Primary Fur Color']=='Gray'])\n",
        "red_sq = len(data[data['Primary Fur Color']=='Cinnamon'])\n",
        "black_sq = len(data[data['Primary Fur Color']=='Black'])\n",
        "print(gray_sq)\n",
        "print(red_sq)\n",
        "print(black_sq)"
      ],
      "execution_count": 29,
      "outputs": [
        {
          "output_type": "stream",
          "text": [
            "2473\n",
            "392\n",
            "103\n"
          ],
          "name": "stdout"
        }
      ]
    },
    {
      "cell_type": "code",
      "metadata": {
        "id": "9lfR4Bf2Ei-9"
      },
      "source": [
        "data_dict={\n",
        "    'Fur Color':['Gray','Cinnamon','Black'],\n",
        "    'Count':['gray_sq','red_sq',black_sq]\n",
        "}"
      ],
      "execution_count": 31,
      "outputs": []
    },
    {
      "cell_type": "code",
      "metadata": {
        "id": "C34xIgIqE7Go"
      },
      "source": [
        "df = pandas.DataFrame(data_dict)\n",
        "df.to_csv('squirrel')"
      ],
      "execution_count": 33,
      "outputs": []
    },
    {
      "cell_type": "code",
      "metadata": {
        "id": "m34YPCo-FMMO"
      },
      "source": [
        ""
      ],
      "execution_count": null,
      "outputs": []
    }
  ]
}