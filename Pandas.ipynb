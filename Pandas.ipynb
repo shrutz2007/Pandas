{
  "nbformat": 4,
  "nbformat_minor": 0,
  "metadata": {
    "colab": {
      "name": "Pandas.ipynb",
      "provenance": []
    },
    "kernelspec": {
      "name": "python3",
      "display_name": "Python 3"
    },
    "language_info": {
      "name": "python"
    }
  },
  "cells": [
    {
      "cell_type": "code",
      "metadata": {
        "colab": {
          "base_uri": "https://localhost:8080/"
        },
        "id": "J8kBZju_6_Ol",
        "outputId": "c5254b09-39a9-4751-f279-d25d23c62330"
      },
      "source": [
        "import pandas as pd\n",
        "data = pd.read_csv(\"weather_data.csv\")\n",
        "print(data[\"temp\"])\n"
      ],
      "execution_count": 2,
      "outputs": [
        {
          "output_type": "stream",
          "text": [
            "0    12\n",
            "1    14\n",
            "2    15\n",
            "3    14\n",
            "4    21\n",
            "5    22\n",
            "6    24\n",
            "Name: temp, dtype: int64\n"
          ],
          "name": "stdout"
        }
      ]
    },
    {
      "cell_type": "code",
      "metadata": {
        "colab": {
          "base_uri": "https://localhost:8080/"
        },
        "id": "mflJUsO77e6L",
        "outputId": "9546d95e-134b-4198-91bb-fe5c2b7e9f90"
      },
      "source": [
        "print(type(data))"
      ],
      "execution_count": 4,
      "outputs": [
        {
          "output_type": "stream",
          "text": [
            "<class 'pandas.core.frame.DataFrame'>\n"
          ],
          "name": "stdout"
        }
      ]
    },
    {
      "cell_type": "code",
      "metadata": {
        "colab": {
          "base_uri": "https://localhost:8080/"
        },
        "id": "L88LOzQN75sk",
        "outputId": "c40e03f9-607d-42e6-8914-adfe4cda1de2"
      },
      "source": [
        "print(type(data[\"temp\"]))"
      ],
      "execution_count": 5,
      "outputs": [
        {
          "output_type": "stream",
          "text": [
            "<class 'pandas.core.series.Series'>\n"
          ],
          "name": "stdout"
        }
      ]
    },
    {
      "cell_type": "code",
      "metadata": {
        "colab": {
          "base_uri": "https://localhost:8080/"
        },
        "id": "e54G7gJ68kqT",
        "outputId": "953add06-f588-4efd-eacb-9aa31c082a65"
      },
      "source": [
        "data_dict=data.to_dict()\n",
        "print(data_dict)"
      ],
      "execution_count": 7,
      "outputs": [
        {
          "output_type": "stream",
          "text": [
            "{'day': {0: 'Monday', 1: 'Tuesday', 2: 'Wednesday', 3: 'Thursday', 4: 'Friday', 5: 'Saturday', 6: 'Sunday'}, 'temp': {0: 12, 1: 14, 2: 15, 3: 14, 4: 21, 5: 22, 6: 24}, 'condition': {0: 'Sunny', 1: 'Rain', 2: 'Rain', 3: 'Cloudy', 4: 'Sunny', 5: 'Sunny', 6: 'Sunny'}}\n"
          ],
          "name": "stdout"
        }
      ]
    },
    {
      "cell_type": "code",
      "metadata": {
        "colab": {
          "base_uri": "https://localhost:8080/"
        },
        "id": "Faot0dqb8y2u",
        "outputId": "df9279b0-0b1c-492b-88a0-64aa348beca4"
      },
      "source": [
        "temp_list=data[\"temp\"].to_list()\n",
        "print(len(temp_list))"
      ],
      "execution_count": 9,
      "outputs": [
        {
          "output_type": "stream",
          "text": [
            "7\n"
          ],
          "name": "stdout"
        }
      ]
    },
    {
      "cell_type": "code",
      "metadata": {
        "colab": {
          "base_uri": "https://localhost:8080/"
        },
        "id": "s2eWnILQ9DMa",
        "outputId": "53cda6e7-3c8f-4840-d543-33a641d1fbfe"
      },
      "source": [
        "avg = sum(temp_list)/len(temp_list)\n",
        "print(avg)"
      ],
      "execution_count": 11,
      "outputs": [
        {
          "output_type": "stream",
          "text": [
            "17.428571428571427\n"
          ],
          "name": "stdout"
        }
      ]
    },
    {
      "cell_type": "code",
      "metadata": {
        "colab": {
          "base_uri": "https://localhost:8080/"
        },
        "id": "T57p_fgB9cTR",
        "outputId": "c831492e-1746-4431-88ae-5f5c38dc8a5b"
      },
      "source": [
        "print(data[\"temp\"].mean())"
      ],
      "execution_count": 12,
      "outputs": [
        {
          "output_type": "stream",
          "text": [
            "17.428571428571427\n"
          ],
          "name": "stdout"
        }
      ]
    },
    {
      "cell_type": "code",
      "metadata": {
        "colab": {
          "base_uri": "https://localhost:8080/"
        },
        "id": "2piDGbKV9lMR",
        "outputId": "67382ccf-a451-4b7b-e81e-b2659081667d"
      },
      "source": [
        "print(data[\"temp\"].max())"
      ],
      "execution_count": 13,
      "outputs": [
        {
          "output_type": "stream",
          "text": [
            "24\n"
          ],
          "name": "stdout"
        }
      ]
    },
    {
      "cell_type": "code",
      "metadata": {
        "colab": {
          "base_uri": "https://localhost:8080/"
        },
        "id": "HRVBwiyI91ZS",
        "outputId": "a4db446d-17f5-4791-acfc-b3110b018d38"
      },
      "source": [
        "print(data['condition'])"
      ],
      "execution_count": 14,
      "outputs": [
        {
          "output_type": "stream",
          "text": [
            "0     Sunny\n",
            "1      Rain\n",
            "2      Rain\n",
            "3    Cloudy\n",
            "4     Sunny\n",
            "5     Sunny\n",
            "6     Sunny\n",
            "Name: condition, dtype: object\n"
          ],
          "name": "stdout"
        }
      ]
    },
    {
      "cell_type": "code",
      "metadata": {
        "colab": {
          "base_uri": "https://localhost:8080/"
        },
        "id": "7n97noa5-ApC",
        "outputId": "fddbe6e1-9676-4dcd-deb7-41f71621416e"
      },
      "source": [
        "data.condition"
      ],
      "execution_count": 15,
      "outputs": [
        {
          "output_type": "execute_result",
          "data": {
            "text/plain": [
              "0     Sunny\n",
              "1      Rain\n",
              "2      Rain\n",
              "3    Cloudy\n",
              "4     Sunny\n",
              "5     Sunny\n",
              "6     Sunny\n",
              "Name: condition, dtype: object"
            ]
          },
          "metadata": {
            "tags": []
          },
          "execution_count": 15
        }
      ]
    },
    {
      "cell_type": "code",
      "metadata": {
        "colab": {
          "base_uri": "https://localhost:8080/",
          "height": 110
        },
        "id": "SGcVYB4Y-Hd4",
        "outputId": "941f3257-d794-4359-f0b3-b3e9fecee42b"
      },
      "source": [
        "data.head(2)"
      ],
      "execution_count": 17,
      "outputs": [
        {
          "output_type": "execute_result",
          "data": {
            "text/html": [
              "<div>\n",
              "<style scoped>\n",
              "    .dataframe tbody tr th:only-of-type {\n",
              "        vertical-align: middle;\n",
              "    }\n",
              "\n",
              "    .dataframe tbody tr th {\n",
              "        vertical-align: top;\n",
              "    }\n",
              "\n",
              "    .dataframe thead th {\n",
              "        text-align: right;\n",
              "    }\n",
              "</style>\n",
              "<table border=\"1\" class=\"dataframe\">\n",
              "  <thead>\n",
              "    <tr style=\"text-align: right;\">\n",
              "      <th></th>\n",
              "      <th>day</th>\n",
              "      <th>temp</th>\n",
              "      <th>condition</th>\n",
              "    </tr>\n",
              "  </thead>\n",
              "  <tbody>\n",
              "    <tr>\n",
              "      <th>0</th>\n",
              "      <td>Monday</td>\n",
              "      <td>12</td>\n",
              "      <td>Sunny</td>\n",
              "    </tr>\n",
              "    <tr>\n",
              "      <th>1</th>\n",
              "      <td>Tuesday</td>\n",
              "      <td>14</td>\n",
              "      <td>Rain</td>\n",
              "    </tr>\n",
              "  </tbody>\n",
              "</table>\n",
              "</div>"
            ],
            "text/plain": [
              "       day  temp condition\n",
              "0   Monday    12     Sunny\n",
              "1  Tuesday    14      Rain"
            ]
          },
          "metadata": {
            "tags": []
          },
          "execution_count": 17
        }
      ]
    },
    {
      "cell_type": "code",
      "metadata": {
        "colab": {
          "base_uri": "https://localhost:8080/"
        },
        "id": "3qx0zWRW-hcW",
        "outputId": "1c57413f-d689-4ca7-fc00-a1a697c59ce6"
      },
      "source": [
        "print(data[data.day == 'Monday'])"
      ],
      "execution_count": 18,
      "outputs": [
        {
          "output_type": "stream",
          "text": [
            "      day  temp condition\n",
            "0  Monday    12     Sunny\n"
          ],
          "name": "stdout"
        }
      ]
    },
    {
      "cell_type": "code",
      "metadata": {
        "colab": {
          "base_uri": "https://localhost:8080/"
        },
        "id": "fbsts00S-vvq",
        "outputId": "7414c7ac-f158-4360-8651-3855acf9d5c1"
      },
      "source": [
        "print(data[data.temp==data.temp.max()])"
      ],
      "execution_count": 22,
      "outputs": [
        {
          "output_type": "stream",
          "text": [
            "      day  temp condition\n",
            "6  Sunday    24     Sunny\n"
          ],
          "name": "stdout"
        }
      ]
    },
    {
      "cell_type": "code",
      "metadata": {
        "id": "9PDtkUfa_onU"
      },
      "source": [
        ""
      ],
      "execution_count": 23,
      "outputs": []
    }
  ]
}